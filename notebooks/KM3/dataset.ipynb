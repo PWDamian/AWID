{
 "cells": [
  {
   "cell_type": "code",
   "execution_count": 1,
   "id": "30f6bd41",
   "metadata": {},
   "outputs": [
    {
     "name": "stderr",
     "output_type": "stream",
     "text": [
      "\u001b[32m\u001b[1m  Activating\u001b[22m\u001b[39m project at `~/AWID`\n"
     ]
    }
   ],
   "source": [
    "using Pkg\n",
    "Pkg.activate(\"../..\")\n",
    "Pkg.instantiate()"
   ]
  },
  {
   "cell_type": "code",
   "execution_count": 2,
   "id": "eb330093",
   "metadata": {},
   "outputs": [
    {
     "name": "stdout",
     "output_type": "stream",
     "text": [
      "reviews: (50000,)\n",
      "labels: (50000,)\n"
     ]
    }
   ],
   "source": [
    "using JLD2\n",
    "data = load(\"../../data/imdb_dataset.jld2\")\n",
    "for key in keys(data)\n",
    "    println(\"$key: $(size(data[key]))\")\n",
    "end"
   ]
  },
  {
   "cell_type": "code",
   "execution_count": 3,
   "id": "004f8cd0",
   "metadata": {},
   "outputs": [
    {
     "name": "stdout",
     "output_type": "stream",
     "text": [
      "Vector{String}\n",
      "BitVector\n",
      "\n",
      "First few reviews:\n",
      "[\"reviewers mentioned watching  oz episode ll hooked exactly happened struck oz brutality unflinching scenes violence set word trust faint hearted timid pulls punches regards drugs sex violence hardcore classic word called oz nickname oswald maximum security penitentary focuses mainly emerald city experimental section prison cells glass fronts inwards privacy agenda em city home aryans muslims gangstas latinos christians italians irish scuffles death stares dodgy dealings shady agreements main appeal due goes dare forget pretty pictures painted mainstream audiences forget charm forget romanceoz mess episode struck nasty surreal ready watched developed taste oz accustomed levels graphic violence violence injustice crooked guards ll sold nickel inmates ll kill mannered middle class inmates prison bitches due lack street skills prison experience watching oz comfortable uncomfortable viewingthats touch darker\", \"wonderful little production filming technique unassuming timebbc fashion comforting sometimes discomforting sense realism entire piece actors extremely chosen michael sheen polari voices pat truly seamless editing guided references williams diary entries worth watching terrificly written performed piece masterful production master comedy life realism comes home little fantasy guard traditional dream techniques remains solid disappears plays knowledge senses particularly scenes concerning orton halliwell sets particularly flat halliwell murals decorating surface terribly\", \"wonderful spend time hot summer weekend sitting air conditioned theater watching lighthearted comedy plot simplistic dialogue witty characters likable bread suspected serial killer disappointed realize match  risk addiction proof woody allen control style grown love laughed woody comedies dare decade impressed scarlet johanson managed tone sexy image jumped average spirited woman crown jewel career wittier devil wears prada superman comedy friends\", \"basically family little boy jake zombie closet parents fighting time movie slower soap opera suddenly jake decides rambo kill zombieok re film decide thriller drama drama movie watchable parents divorcing arguing real life jake closet totally ruins film expected boogeyman similar movie instead watched drama meaningless thriller spots  playing parents descent dialogs shots jake ignore\", \"petter mattei love time money visually stunning film watch mattei offers vivid portrait human relations movie telling money power success people situations encounter variation arthur schnitzler play theme director transfers action time york characters meet connect connected person previous contact stylishly film sophisticated luxurious look people live world live habitat souls picture stages loneliness inhabits city exactly human relations sincere fulfillment discerns people encounter acting mattei direction steve buscemi rosario dawson carol kane michael imperioli adrian grenier rest talented cast characters alive wish mattei luck await anxiously\"]\n",
      "\n",
      "First few labels:\n",
      "Bool[1, 1, 1, 0, 1]\n"
     ]
    }
   ],
   "source": [
    "println(typeof(data[\"reviews\"]))\n",
    "println(typeof(data[\"labels\"]))\n",
    "\n",
    "println(\"\\nFirst few reviews:\")\n",
    "println(data[\"reviews\"][1:5])\n",
    "\n",
    "println(\"\\nFirst few labels:\")\n",
    "println(data[\"labels\"][1:5])"
   ]
  },
  {
   "cell_type": "code",
   "execution_count": 4,
   "id": "d3a2d080",
   "metadata": {},
   "outputs": [
    {
     "name": "stderr",
     "output_type": "stream",
     "text": [
      "┌ Info: Loading raw dataset...\n",
      "└ @ Main /home/damian/AWID/src/DataPrep/data_prep_embeddings.jl:6\n",
      "┌ Info: Loading Glove embeddings...\n",
      "└ @ Main /home/damian/AWID/src/DataPrep/data_prep_embeddings.jl:23\n",
      "┌ Info: Data preparation...\n",
      "└ @ Main /home/damian/AWID/src/DataPrep/data_prep_embeddings.jl:28\n",
      "┌ Info: Encoding...\n",
      "└ @ Main /home/damian/AWID/src/DataPrep/data_prep_embeddings.jl:78\n",
      "┌ Info: Saving prepared data to /home/damian/AWID/src/DataPrep/../../data/embeddings/imdb_dataset_prepared.jld2 ...\n",
      "└ @ Main /home/damian/AWID/src/DataPrep/data_prep_embeddings.jl:109\n",
      "┌ Info: Data saved.\n",
      "└ @ Main /home/damian/AWID/src/DataPrep/data_prep_embeddings.jl:117\n"
     ]
    },
    {
     "data": {
      "text/plain": [
       "(X_train = [291 9545 … 9545 5805; 1671 490 … 375 5805; … ; 12859 12859 … 12859 5217; 12859 12859 … 12859 486], y_train = Bool[1 1 … 0 0], X_test = [6475 6427 … 9545 11716; 2422 9545 … 9974 3905; … ; 12859 12859 … 12859 8309; 12859 12859 … 12859 5345], y_test = Bool[0 0 … 0 1], embeddings = Float32[0.014323 -0.58014 … 0.90951 0.0; -0.74624 -1.1316 … -0.20702 0.0; … ; -0.079873 0.1722 … -0.60396 0.0; -0.89164 1.2622 … -0.31136 0.0], vocab = [\"dev\", \"dumber\", \"henry\", \"abducted\", \"rises\", \"progression\", \"il\", \"gathered\", \"lovers\", \"underground\"  …  \"poetic\", \"cromwell\", \"ponderous\", \"maybe\", \"towel\", \"uncut\", \"joint\", \"treacherous\", \"confined\", \"<pad>\"])"
      ]
     },
     "metadata": {},
     "output_type": "display_data"
    }
   ],
   "source": [
    "include(\"../../src/DataPrep/data_prep_embeddings.jl\")\n",
    "(X_train, y_train, X_test, y_test) = prepare_dataset()"
   ]
  },
  {
   "cell_type": "code",
   "execution_count": null,
   "id": "944b4867",
   "metadata": {},
   "outputs": [
    {
     "name": "stdout",
     "output_type": "stream",
     "text": [
      "y_train: (1, 40000)\n",
      "embeddings: (50, 12859)\n",
      "vocab: (12859,)\n",
      "X_train: (130, 40000)\n",
      "X_test: (130, 10000)\n",
      "y_test: (1, 10000)\n"
     ]
    }
   ],
   "source": [
    "data_prepared = load(\"../../data/embeddings/imdb_dataset_prepared.jld2\")\n",
    "for key in keys(data_prepared)\n",
    "    println(\"$key: $(size(data_prepared[key]))\")\n",
    "end\n",
    "# embeddings: (50, 12859)\n",
    "# 50 - liczba cech opisujących każdy token (słowo)\n",
    "# 12859 - liczba tokenów (słów)"
   ]
  },
  {
   "cell_type": "code",
   "execution_count": 9,
   "id": "24f8eeb4",
   "metadata": {},
   "outputs": [
    {
     "name": "stdout",
     "output_type": "stream",
     "text": [
      "Positive labels in y_train: 20033\n",
      "Negative labels in y_train: 19967\n",
      "\n",
      "First few samples of X_train (first 5 rows, 5 samples):\n",
      "[291 9545 3786 7147 9511; 1671 490 291 4782 9511; 1856 291 291 9785 8309; 11433 1881 3073 9545 10206; 855 291 11976 6368 435]\n",
      "\n",
      "First few labels of y_train:\n",
      "Bool[1 1 0 0 1]\n",
      "\n",
      "First few samples of X_test (first 5 rows, 5 samples):\n",
      "[6475 6427 12011 5831 7312; 2422 9545 2470 291 9545; 5245 7369 5510 9417 6368; 6020 12351 8800 8458 3059; 12316 9432 10370 291 86]\n",
      "\n",
      "First few labels of y_test:\n",
      "Bool[0 0 1 0 0]\n",
      "\n",
      "Embedding matrix (first 5 dimensions × first 5 tokens):\n",
      "Float32[0.014323 -0.58014 0.27137 0.68397 0.11369; -0.74624 -1.1316 0.61347 -0.68729 0.53461; 0.35701 0.44189 -0.52498 0.8797 1.2828; 0.75488 -0.048199 -0.7617 -0.35249 -0.61803; 0.11551 -0.11754 0.37252 0.82288 0.064278]\n",
      "\n",
      "Sample vocab tokens: \n",
      "[\"dev\", \"dumber\", \"henry\", \"abducted\", \"rises\"]\n"
     ]
    }
   ],
   "source": [
    "println(\"Positive labels in y_train: \", sum(data_prepared[\"y_train\"]))\n",
    "println(\"Negative labels in y_train: \", length(data_prepared[\"y_train\"]) - sum(data_prepared[\"y_train\"]))\n",
    "\n",
    "println(\"\\nFirst few samples of X_train (first 5 rows, 5 samples):\")\n",
    "println(data_prepared[\"X_train\"][1:5, 1:5])\n",
    "\n",
    "println(\"\\nFirst few labels of y_train:\")\n",
    "println(data_prepared[\"y_train\"][:, 1:5])\n",
    "\n",
    "println(\"\\nFirst few samples of X_test (first 5 rows, 5 samples):\")\n",
    "println(data_prepared[\"X_test\"][1:5, 1:5])\n",
    "\n",
    "println(\"\\nFirst few labels of y_test:\")\n",
    "println(data_prepared[\"y_test\"][:, 1:5])\n",
    "\n",
    "println(\"\\nEmbedding matrix (first 5 dimensions × first 5 tokens):\")\n",
    "println(data_prepared[\"embeddings\"][1:5, 1:5])\n",
    "\n",
    "println(\"\\nSample vocab tokens: \")\n",
    "println(data_prepared[\"vocab\"][1:5])"
   ]
  }
 ],
 "metadata": {
  "kernelspec": {
   "display_name": "Julia 1.11.5",
   "language": "julia",
   "name": "julia-1.11"
  },
  "language_info": {
   "file_extension": ".jl",
   "mimetype": "application/julia",
   "name": "julia",
   "version": "1.11.5"
  }
 },
 "nbformat": 4,
 "nbformat_minor": 5
}
