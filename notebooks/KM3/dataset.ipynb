{
 "cells": [
  {
   "cell_type": "code",
   "execution_count": 8,
   "id": "30f6bd41",
   "metadata": {},
   "outputs": [
    {
     "name": "stderr",
     "output_type": "stream",
     "text": [
      "\u001b[32m\u001b[1m  Activating\u001b[22m\u001b[39m project at `~/dev/projects/AWID`\n"
     ]
    }
   ],
   "source": [
    "using Pkg\n",
    "Pkg.activate(\"../..\")\n",
    "Pkg.instantiate()"
   ]
  },
  {
   "cell_type": "code",
   "execution_count": 9,
   "id": "eb330093",
   "metadata": {},
   "outputs": [
    {
     "name": "stdout",
     "output_type": "stream",
     "text": [
      "reviews: (50000,)\n",
      "labels: (50000,)\n"
     ]
    }
   ],
   "source": [
    "using JLD2\n",
    "data = load(\"../../data/imdb_dataset.jld2\")\n",
    "for key in keys(data)\n",
    "    println(\"$key: $(size(data[key]))\")\n",
    "end"
   ]
  },
  {
   "cell_type": "code",
   "execution_count": 10,
   "id": "004f8cd0",
   "metadata": {},
   "outputs": [
    {
     "name": "stdout",
     "output_type": "stream",
     "text": [
      "Vector{String}\n",
      "BitVector\n",
      "\n",
      "First few reviews:\n",
      "[\"reviewers mentioned watching  oz episode ll hooked exactly happened struck oz brutality unflinching scenes violence set word trust faint hearted timid pulls punches regards drugs sex violence hardcore classic word called oz nickname oswald maximum security penitentary focuses mainly emerald city experimental section prison cells glass fronts inwards privacy agenda em city home aryans muslims gangstas latinos christians italians irish scuffles death stares dodgy dealings shady agreements main appeal due goes dare forget pretty pictures painted mainstream audiences forget charm forget romanceoz mess episode struck nasty surreal ready watched developed taste oz accustomed levels graphic violence violence injustice crooked guards ll sold nickel inmates ll kill mannered middle class inmates prison bitches due lack street skills prison experience watching oz comfortable uncomfortable viewingthats touch darker\", \"wonderful little production filming technique unassuming timebbc fashion comforting sometimes discomforting sense realism entire piece actors extremely chosen michael sheen polari voices pat truly seamless editing guided references williams diary entries worth watching terrificly written performed piece masterful production master comedy life realism comes home little fantasy guard traditional dream techniques remains solid disappears plays knowledge senses particularly scenes concerning orton halliwell sets particularly flat halliwell murals decorating surface terribly\", \"wonderful spend time hot summer weekend sitting air conditioned theater watching lighthearted comedy plot simplistic dialogue witty characters likable bread suspected serial killer disappointed realize match  risk addiction proof woody allen control style grown love laughed woody comedies dare decade impressed scarlet johanson managed tone sexy image jumped average spirited woman crown jewel career wittier devil wears prada superman comedy friends\", \"basically family little boy jake zombie closet parents fighting time movie slower soap opera suddenly jake decides rambo kill zombieok re film decide thriller drama drama movie watchable parents divorcing arguing real life jake closet totally ruins film expected boogeyman similar movie instead watched drama meaningless thriller spots  playing parents descent dialogs shots jake ignore\", \"petter mattei love time money visually stunning film watch mattei offers vivid portrait human relations movie telling money power success people situations encounter variation arthur schnitzler play theme director transfers action time york characters meet connect connected person previous contact stylishly film sophisticated luxurious look people live world live habitat souls picture stages loneliness inhabits city exactly human relations sincere fulfillment discerns people encounter acting mattei direction steve buscemi rosario dawson carol kane michael imperioli adrian grenier rest talented cast characters alive wish mattei luck await anxiously\"]\n",
      "\n",
      "First few labels:\n",
      "Bool[1, 1, 1, 0, 1]\n"
     ]
    }
   ],
   "source": [
    "println(typeof(data[\"reviews\"]))\n",
    "println(typeof(data[\"labels\"]))\n",
    "\n",
    "println(\"\\nFirst few reviews:\")\n",
    "println(data[\"reviews\"][1:5])\n",
    "\n",
    "println(\"\\nFirst few labels:\")\n",
    "println(data[\"labels\"][1:5])"
   ]
  },
  {
   "cell_type": "code",
   "execution_count": 11,
   "id": "d3a2d080",
   "metadata": {},
   "outputs": [
    {
     "name": "stderr",
     "output_type": "stream",
     "text": [
      "┌ Info: Loading raw dataset...\n",
      "└ @ Main /home/grzegorz/dev/projects/AWID/src/DataPrep/data_prep_embeddings.jl:6\n",
      "┌ Info: Loading Glove embeddings...\n",
      "└ @ Main /home/grzegorz/dev/projects/AWID/src/DataPrep/data_prep_embeddings.jl:23\n",
      "┌ Info: Data preparation...\n",
      "└ @ Main /home/grzegorz/dev/projects/AWID/src/DataPrep/data_prep_embeddings.jl:28\n",
      "┌ Info: Encoding...\n",
      "└ @ Main /home/grzegorz/dev/projects/AWID/src/DataPrep/data_prep_embeddings.jl:78\n",
      "┌ Info: Saving prepared data to /home/grzegorz/dev/projects/AWID/src/DataPrep/../../data/embeddings/imdb_dataset_prepared.jld2 ...\n",
      "└ @ Main /home/grzegorz/dev/projects/AWID/src/DataPrep/data_prep_embeddings.jl:109\n",
      "┌ Info: Data saved.\n",
      "└ @ Main /home/grzegorz/dev/projects/AWID/src/DataPrep/data_prep_embeddings.jl:117\n"
     ]
    },
    {
     "data": {
      "text/plain": [
       "(X_train = [9204 8583 … 1544 11906; 9520 286 … 5728 8781; … ; 8776 12837 … 2170 12837; 7898 12837 … 5174 12837], y_train = Bool[1 1 … 1 1], X_test = [3261 8687 … 7975 681; 286 9603 … 4215 9520; … ; 12837 12837 … 8482 12837; 12837 12837 … 1890 12837], y_test = Bool[1 1 … 1 0], embeddings = Float32[0.014323 -0.58014 … 0.90951 0.0; -0.74624 -1.1316 … -0.20702 0.0; … ; -0.079873 0.1722 … -0.60396 0.0; -0.89164 1.2622 … -0.31136 0.0], vocab = [\"dev\", \"dumber\", \"henry\", \"abducted\", \"rises\", \"progression\", \"il\", \"gathered\", \"lovers\", \"underground\"  …  \"disappointment\", \"poetic\", \"ponderous\", \"maybe\", \"towel\", \"uncut\", \"joint\", \"treacherous\", \"confined\", \"<pad>\"])"
      ]
     },
     "metadata": {},
     "output_type": "display_data"
    }
   ],
   "source": [
    "include(\"../../src/DataPrep/data_prep_embeddings.jl\")\n",
    "(X_train, y_train, X_test, y_test) = prepare_dataset()"
   ]
  },
  {
   "cell_type": "code",
   "execution_count": 12,
   "id": "944b4867",
   "metadata": {},
   "outputs": [
    {
     "name": "stdout",
     "output_type": "stream",
     "text": [
      "y_train: (1, 40000)\n",
      "embeddings: (50, 12837)\n",
      "vocab: (12837,)\n",
      "X_train: (130, 40000)\n",
      "X_test: (130, 10000)\n",
      "y_test: (1, 10000)\n"
     ]
    }
   ],
   "source": [
    "data_prepared = load(\"../../data/embeddings/imdb_dataset_prepared.jld2\")\n",
    "for key in keys(data_prepared)\n",
    "    println(\"$key: $(size(data_prepared[key]))\")\n",
    "end\n",
    "# embeddings: (50, 12859)\n",
    "# 50 - liczba cech opisujących każdy token (słowo)\n",
    "# 12859 - liczba tokenów (słów)"
   ]
  },
  {
   "cell_type": "code",
   "execution_count": 13,
   "id": "24f8eeb4",
   "metadata": {},
   "outputs": [
    {
     "name": "stdout",
     "output_type": "stream",
     "text": [
      "Positive labels in y_train: 20011\n",
      "Negative labels in y_train: 19989\n",
      "\n",
      "First few samples of X_train (first 5 rows, 5 samples):\n",
      "[9204 8583 9277 11304 10297; 9520 286 10966 2514 4767; 3493 286 6626 9706 713; 3550 5650 12440 8910 4000; 965 1255 12120 8278 286]\n",
      "\n",
      "First few labels of y_train:\n",
      "Bool[1 1 0 0 1]\n",
      "\n",
      "First few samples of X_test (first 5 rows, 5 samples):\n",
      "[3261 8687 2082 8179 9301; 286 9603 7362 9505 3919; 8278 5926 897 11202 286; 2453 10297 286 10847 1844; 12585 9486 286 2188 599]\n",
      "\n",
      "First few labels of y_test:\n",
      "Bool[1 1 0 1 0]\n",
      "\n",
      "Embedding matrix (first 5 dimensions × first 5 tokens):\n",
      "Float32[0.014323 -0.58014 0.27137 0.68397 0.11369; -0.74624 -1.1316 0.61347 -0.68729 0.53461; 0.35701 0.44189 -0.52498 0.8797 1.2828; 0.75488 -0.048199 -0.7617 -0.35249 -0.61803; 0.11551 -0.11754 0.37252 0.82288 0.064278]\n",
      "\n",
      "Sample vocab tokens: \n",
      "[\"dev\", \"dumber\", \"henry\", \"abducted\", \"rises\"]\n"
     ]
    }
   ],
   "source": [
    "println(\"Positive labels in y_train: \", sum(data_prepared[\"y_train\"]))\n",
    "println(\"Negative labels in y_train: \", length(data_prepared[\"y_train\"]) - sum(data_prepared[\"y_train\"]))\n",
    "\n",
    "println(\"\\nFirst few samples of X_train (first 5 rows, 5 samples):\")\n",
    "println(data_prepared[\"X_train\"][1:5, 1:5])\n",
    "\n",
    "println(\"\\nFirst few labels of y_train:\")\n",
    "println(data_prepared[\"y_train\"][:, 1:5])\n",
    "\n",
    "println(\"\\nFirst few samples of X_test (first 5 rows, 5 samples):\")\n",
    "println(data_prepared[\"X_test\"][1:5, 1:5])\n",
    "\n",
    "println(\"\\nFirst few labels of y_test:\")\n",
    "println(data_prepared[\"y_test\"][:, 1:5])\n",
    "\n",
    "println(\"\\nEmbedding matrix (first 5 dimensions × first 5 tokens):\")\n",
    "println(data_prepared[\"embeddings\"][1:5, 1:5])\n",
    "\n",
    "println(\"\\nSample vocab tokens: \")\n",
    "println(data_prepared[\"vocab\"][1:5])"
   ]
  }
 ],
 "metadata": {
  "kernelspec": {
   "display_name": "Julia 1.11.5",
   "language": "julia",
   "name": "julia-1.11"
  },
  "language_info": {
   "file_extension": ".jl",
   "mimetype": "application/julia",
   "name": "julia",
   "version": "1.11.5"
  }
 },
 "nbformat": 4,
 "nbformat_minor": 5
}
