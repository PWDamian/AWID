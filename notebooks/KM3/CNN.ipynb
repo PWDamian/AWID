{
 "cells": [
  {
   "cell_type": "code",
   "execution_count": null,
   "id": "14898ca2",
   "metadata": {},
   "outputs": [],
   "source": [
    "using Pkg\n",
    "Pkg.activate(\"../..\")\n",
    "Pkg.instantiate()"
   ]
  },
  {
   "cell_type": "code",
   "execution_count": null,
   "id": "01043f41",
   "metadata": {},
   "outputs": [],
   "source": [
    "using JLD2\n",
    "X_train = load(\"../../data/embeddings/imdb_dataset_prepared.jld2\", \"X_train\")\n",
    "y_train = load(\"../../data/embeddings/imdb_dataset_prepared.jld2\", \"y_train\")\n",
    "X_test = load(\"../../data/embeddings/imdb_dataset_prepared.jld2\", \"X_test\")\n",
    "y_test = load(\"../../data/embeddings/imdb_dataset_prepared.jld2\", \"y_test\")\n",
    "embeddings = load(\"../../data/embeddings/imdb_dataset_prepared.jld2\", \"embeddings\")\n",
    "vocab = load(\"../../data/embeddings/imdb_dataset_prepared.jld2\", \"vocab\")\n",
    "nothing\n",
    "\n",
    "embedding_dim = size(embeddings, 1)\n",
    "\n"
   ]
  },
  {
   "cell_type": "code",
   "execution_count": 3,
   "id": "94800753",
   "metadata": {},
   "outputs": [],
   "source": [
    "using AWID.NeuralNetwork, AWID.AutoDiff\n",
    "\n",
    "model = Chain(\n",
    "    Embedding(length(vocab), embedding_dim),\n",
    "    Permute((2,1,3)),\n",
    "    Conv((3,), embedding_dim, 8, relu),\n",
    "    MaxPool((8,)),\n",
    "    Flatten(),\n",
    "    Dense(128, 1, sigmoid)\n",
    ")\n",
    "\n",
    "# add Glove embeddings to Embedding layer\n",
    "model.layers[1].W.output .= embeddings;"
   ]
  },
  {
   "cell_type": "code",
   "execution_count": null,
   "id": "14618955",
   "metadata": {},
   "outputs": [],
   "source": [
    "using AWID.NeuralNetwork, AWID.AutoDiff, Printf\n",
    "\n",
    "batch_size = 64\n",
    "\n",
    "train_on_batch, test_loss_and_accuracy = setup_training_functions(\n",
    "    model=model,\n",
    "    loss_fn=binary_crossentropy,\n",
    "    accuracy_fn=accuracy,\n",
    "    optimizer=Adam(),\n",
    "    x_test=X_test,\n",
    "    y_test=y_test,\n",
    "    batch_size=batch_size,\n",
    ")\n",
    "\n",
    "epochs = 5\n",
    "for epoch in 1:epochs\n",
    "    epoch_total_loss = 0.0f0\n",
    "    epoch_total_acc = 0.0f0\n",
    "    num_processed_batches = 0\n",
    "\n",
    "    epoch_batches = get_epoch_batches(X_train, y_train, batch_size=batch_size, do_shuffle=true)\n",
    "\n",
    "    t = @elapsed begin\n",
    "        for (x_batch, y_batch) in epoch_batches\n",
    "            batch_loss, batch_acc = train_on_batch(x_batch, y_batch)\n",
    "\n",
    "            epoch_total_loss += batch_loss\n",
    "            epoch_total_acc += batch_acc\n",
    "            num_processed_batches += 1\n",
    "        end\n",
    "\n",
    "        train_loss = epoch_total_loss / num_processed_batches\n",
    "        train_acc = epoch_total_acc / num_processed_batches\n",
    "\n",
    "        test_loss, test_acc = test_loss_and_accuracy()\n",
    "    end\n",
    "\n",
    "    println(@sprintf(\"Epoch: %d (%.2fs) \\tTrain: (l: %.2f, a: %.2f) \\tTest: (l: %.2f, a: %.2f)\",\n",
    "        epoch, t, train_loss, train_acc, test_loss, test_acc))\n",
    "end"
   ]
  }
 ],
 "metadata": {
  "kernelspec": {
   "display_name": "Julia 1.11.5",
   "language": "julia",
   "name": "julia-1.11"
  },
  "language_info": {
   "file_extension": ".jl",
   "mimetype": "application/julia",
   "name": "julia",
   "version": "1.11.5"
  }
 },
 "nbformat": 4,
 "nbformat_minor": 5
}
