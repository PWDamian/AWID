{
 "cells": [
  {
   "cell_type": "code",
   "execution_count": 1,
   "id": "14898ca2",
   "metadata": {},
   "outputs": [
    {
     "name": "stderr",
     "output_type": "stream",
     "text": [
      "\u001b[32m\u001b[1m  Activating\u001b[22m\u001b[39m project at `~/AWID`\n"
     ]
    }
   ],
   "source": [
    "using Pkg\n",
    "Pkg.activate(\"../..\")"
   ]
  },
  {
   "cell_type": "code",
   "execution_count": 2,
   "id": "01043f41",
   "metadata": {},
   "outputs": [
    {
     "data": {
      "text/plain": [
       "50"
      ]
     },
     "metadata": {},
     "output_type": "display_data"
    }
   ],
   "source": [
    "using JLD2\n",
    "X_train = load(\"../../data/embeddings/imdb_dataset_prepared.jld2\", \"X_train\")\n",
    "y_train = load(\"../../data/embeddings/imdb_dataset_prepared.jld2\", \"y_train\")\n",
    "X_test = load(\"../../data/embeddings/imdb_dataset_prepared.jld2\", \"X_test\")\n",
    "y_test = load(\"../../data/embeddings/imdb_dataset_prepared.jld2\", \"y_test\")\n",
    "embeddings = load(\"../../data/embeddings/imdb_dataset_prepared.jld2\", \"embeddings\")\n",
    "vocab = load(\"../../data/embeddings/imdb_dataset_prepared.jld2\", \"vocab\")\n",
    "nothing\n",
    "\n",
    "embedding_dim = size(embeddings, 1)"
   ]
  },
  {
   "cell_type": "code",
   "execution_count": 3,
   "id": "32e3b5c0",
   "metadata": {},
   "outputs": [
    {
     "name": "stdout",
     "output_type": "stream",
     "text": [
      "Model Summary:\n",
      "Input shape: (130, 64)\n",
      "Layer 1: Embedding -> Output shape: (50, 130, 64)\n",
      "Layer 2: Conv1D -> Output shape: (8, 128, 64)\n",
      "Layer 3: MaxPool1D -> Output shape: (8, 16, 64)\n",
      "Layer 4: Flatten -> Output shape: (128, 64)\n",
      "Layer 5: Dense -> Output shape: (1, 64)\n"
     ]
    }
   ],
   "source": [
    "using AWID.NeuralNetwork\n",
    "\n",
    "embedding_layer = Embedding(length(vocab), embedding_dim)\n",
    "embedding_layer.weight.output .= embeddings\n",
    "\n",
    "model = Chain(\n",
    "    embedding_layer,\n",
    "    Conv1D(3, embedding_dim => 8, relu), # 8 różnych filtrów, każdy uczy się wykrywać inny wzorzec w 3 sąsiednich słowach\n",
    "    MaxPool1D(8), # dla każdego z 8 filtrów wybiera spośród 8 okien (po 3 słowa) te z największą aktywacją \n",
    "    Flatten(),\n",
    "    Dense(128, 1, sigmoid)\n",
    ")\n",
    "\n",
    "seq_len = size(X_train, 1)\n",
    "batch_size = 64\n",
    "input_shape = (seq_len, batch_size)\n",
    "summary(model, input_shape)"
   ]
  },
  {
   "cell_type": "code",
   "execution_count": 4,
   "id": "943a9f53",
   "metadata": {},
   "outputs": [
    {
     "name": "stdout",
     "output_type": "stream",
     "text": [
      "Epoch: 1 (67.99s) \tTrain: (l: 0.57, a: 0.69) \tTest: (l: 0.43, a: 0.80)\n",
      "Epoch: 2 (45.78s) \tTrain: (l: 0.35, a: 0.85) \tTest: (l: 0.34, a: 0.85)\n",
      "Epoch: 3 (46.45s) \tTrain: (l: 0.27, a: 0.89) \tTest: (l: 0.33, a: 0.86)\n",
      "Epoch: 4 (47.67s) \tTrain: (l: 0.21, a: 0.92) \tTest: (l: 0.33, a: 0.87)\n",
      "Epoch: 5 (55.02s) \tTrain: (l: 0.15, a: 0.95) \tTest: (l: 0.36, a: 0.86)\n"
     ]
    }
   ],
   "source": [
    "using Printf\n",
    "\n",
    "train_on_batch, test_loss_and_accuracy = setup_training_functions(\n",
    "    model=model,\n",
    "    loss_fn=binary_crossentropy,\n",
    "    accuracy_fn=accuracy,\n",
    "    optimizer=Adam(),\n",
    "    x_test=X_test,\n",
    "    y_test=y_test,\n",
    "    batch_size=batch_size,\n",
    ")\n",
    "\n",
    "epochs = 5\n",
    "for epoch in 1:epochs\n",
    "    epoch_total_loss = 0.0f0\n",
    "    epoch_total_acc = 0.0f0\n",
    "    num_processed_batches = 0\n",
    "\n",
    "    epoch_batches = get_epoch_batches(X_train, y_train, batch_size=batch_size, do_shuffle=true)\n",
    "\n",
    "    t = @elapsed begin\n",
    "        for (x_batch, y_batch) in epoch_batches\n",
    "            batch_loss, batch_acc = train_on_batch(x_batch, y_batch)\n",
    "\n",
    "            epoch_total_loss += batch_loss\n",
    "            epoch_total_acc += batch_acc\n",
    "            num_processed_batches += 1\n",
    "        end\n",
    "\n",
    "        train_loss = epoch_total_loss / num_processed_batches\n",
    "        train_acc = epoch_total_acc / num_processed_batches\n",
    "\n",
    "        test_loss, test_acc = test_loss_and_accuracy()\n",
    "    end\n",
    "\n",
    "    println(@sprintf(\"Epoch: %d (%.2fs) \\tTrain: (l: %.2f, a: %.2f) \\tTest: (l: %.2f, a: %.2f)\",\n",
    "        epoch, t, train_loss, train_acc, test_loss, test_acc))\n",
    "end"
   ]
  }
 ],
 "metadata": {
  "kernelspec": {
   "display_name": "Julia 1.11.5",
   "language": "julia",
   "name": "julia-1.11"
  },
  "language_info": {
   "file_extension": ".jl",
   "mimetype": "application/julia",
   "name": "julia",
   "version": "1.11.5"
  }
 },
 "nbformat": 4,
 "nbformat_minor": 5
}
