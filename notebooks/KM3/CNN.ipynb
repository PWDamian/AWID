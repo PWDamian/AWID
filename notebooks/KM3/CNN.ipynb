{
 "cells": [
  {
   "cell_type": "code",
   "execution_count": null,
   "id": "14898ca2",
   "metadata": {},
   "outputs": [
    {
     "name": "stderr",
     "output_type": "stream",
     "text": [
      "\u001b[32m\u001b[1m  Activating\u001b[22m\u001b[39m project at `~/Code/1DI2153/CNN`\n"
     ]
    }
   ],
   "source": [
    "using Pkg\n",
    "Pkg.activate(\"../..\")"
   ]
  },
  {
   "cell_type": "code",
   "execution_count": null,
   "id": "01043f41",
   "metadata": {},
   "outputs": [
    {
     "data": {
      "text/plain": [
       "50"
      ]
     },
     "execution_count": 2,
     "metadata": {},
     "output_type": "execute_result"
    }
   ],
   "source": [
    "using JLD2\n",
    "X_train = load(\"../../data/embeddings/imdb_dataset_prepared.jld2\", \"X_train\")\n",
    "y_train = load(\"../../data/embeddings/imdb_dataset_prepared.jld2\", \"y_train\")\n",
    "X_test = load(\"../../data/embeddings/imdb_dataset_prepared.jld2\", \"X_test\")\n",
    "y_test = load(\"../../data/embeddings/imdb_dataset_prepared.jld2\", \"y_test\")\n",
    "embeddings = load(\"../../data/embeddings/imdb_dataset_prepared.jld2\", \"embeddings\")\n",
    "vocab = load(\"../../data/embeddings/imdb_dataset_prepared.jld2\", \"vocab\")\n",
    "nothing\n",
    "\n",
    "embedding_dim = size(embeddings, 1)"
   ]
  }
 ],
 "metadata": {
  "kernelspec": {
   "display_name": "Julia 1.11.4",
   "language": "julia",
   "name": "julia-1.11"
  },
  "language_info": {
   "file_extension": ".jl",
   "mimetype": "application/julia",
   "name": "julia",
   "version": "1.11.4"
  }
 },
 "nbformat": 4,
 "nbformat_minor": 5
}
