{
 "cells": [
  {
   "cell_type": "code",
   "execution_count": 1,
   "id": "14898ca2",
   "metadata": {},
   "outputs": [
    {
     "name": "stderr",
     "output_type": "stream",
     "text": [
      "\u001b[32m\u001b[1m  Activating\u001b[22m\u001b[39m project at `~/dev/projects/AWID`\n",
      "\u001b[92m\u001b[1mPrecompiling\u001b[22m\u001b[39m project...\n",
      "    508.2 ms\u001b[32m  ✓ \u001b[39mAWID\n",
      "  1 dependency successfully precompiled in 2 seconds. 205 already precompiled.\n"
     ]
    }
   ],
   "source": [
    "using Pkg\n",
    "Pkg.activate(\"../..\")\n",
    "Pkg.instantiate()"
   ]
  },
  {
   "cell_type": "code",
   "execution_count": 2,
   "id": "01043f41",
   "metadata": {},
   "outputs": [
    {
     "data": {
      "text/plain": [
       "50"
      ]
     },
     "metadata": {},
     "output_type": "display_data"
    }
   ],
   "source": [
    "using JLD2\n",
    "X_train = load(\"../../data/embeddings/imdb_dataset_prepared.jld2\", \"X_train\")\n",
    "y_train = load(\"../../data/embeddings/imdb_dataset_prepared.jld2\", \"y_train\")\n",
    "X_test = load(\"../../data/embeddings/imdb_dataset_prepared.jld2\", \"X_test\")\n",
    "y_test = load(\"../../data/embeddings/imdb_dataset_prepared.jld2\", \"y_test\")\n",
    "embeddings = load(\"../../data/embeddings/imdb_dataset_prepared.jld2\", \"embeddings\")\n",
    "vocab = load(\"../../data/embeddings/imdb_dataset_prepared.jld2\", \"vocab\")\n",
    "nothing\n",
    "\n",
    "embedding_dim = size(embeddings, 1)"
   ]
  },
  {
   "cell_type": "code",
   "execution_count": 3,
   "id": "94800753",
   "metadata": {},
   "outputs": [
    {
     "data": {
      "text/plain": [
       "Chain((Embedding(var ?\n",
       " ┣━ ^ 50×12837 Matrix{Float32}\n",
       " ┗━ ∇ Nothing), Permute((2, 1, 3)), Conv(var ?\n",
       " ┣━ ^ 3×50×8 Array{Float32, 3}\n",
       " ┗━ ∇ Nothing, var ?\n",
       " ┣━ ^ 8-element Vector{Float32}\n",
       " ┗━ ∇ Nothing, (3,), 50, 8, AWID.NeuralNetwork.Activations.relu), MaxPool((8,), (8,)), Flatten(), Dense(var ?\n",
       " ┣━ ^ 1×128 Matrix{Float32}\n",
       " ┗━ ∇ Nothing, var ?\n",
       " ┣━ ^ 1-element Vector{Float32}\n",
       " ┗━ ∇ Nothing, AWID.NeuralNetwork.Activations.sigmoid)))"
      ]
     },
     "metadata": {},
     "output_type": "display_data"
    }
   ],
   "source": [
    "using AWID.NeuralNetwork, AWID.AutoDiff\n",
    "\n",
    "model = Chain(\n",
    "    Embedding(length(vocab), embedding_dim),\n",
    "    Permute((2,1,3)),\n",
    "    Conv((3,), embedding_dim, 8, relu),\n",
    "    MaxPool((8,)),\n",
    "    Flatten(),\n",
    "    Dense(128, 1, sigmoid)\n",
    ")"
   ]
  },
  {
   "cell_type": "code",
   "execution_count": 4,
   "id": "14618955",
   "metadata": {},
   "outputs": [
    {
     "name": "stdout",
     "output_type": "stream",
     "text": [
      "Permute: (2, 1, 3)\n",
      "Input: Matrix{Float32}(undef, 50, 0)\n"
     ]
    },
    {
     "ename": "ArgumentError",
     "evalue": "ArgumentError: no valid permutation of dimensions",
     "output_type": "error",
     "traceback": [
      "ArgumentError: no valid permutation of dimensions\n",
      "\n",
      "Stacktrace:\n",
      " [1] permutedims(B::Matrix{Float32}, perm::Tuple{Int64, Int64, Int64})\n",
      "   @ Base ./multidimensional.jl:1631\n",
      " [2] (::Permute)(input::Variable{Matrix{Float32}})\n",
      "   @ AWID.NeuralNetwork.Layers ~/dev/projects/AWID/src/NeuralNetwork/layers.jl:151\n",
      " [3] (::Chain)(input::Variable{Matrix{Float32}})\n",
      "   @ AWID.NeuralNetwork.Layers ~/dev/projects/AWID/src/NeuralNetwork/layers.jl:251\n",
      " [4] #setup_training_functions#1\n",
      "   @ ~/dev/projects/AWID/src/NeuralNetwork/training.jl:30 [inlined]\n",
      " [5] top-level scope\n",
      "   @ ~/dev/projects/AWID/notebooks/KM3/jl_notebook_cell_df34fa98e69747e1a8f8a730347b8e2f_W3sZmlsZQ==.jl:5"
     ]
    }
   ],
   "source": [
    "using AWID.NeuralNetwork, AWID.AutoDiff, Printf\n",
    "\n",
    "batch_size = 64\n",
    "\n",
    "train_on_batch, test_loss_and_accuracy = setup_training_functions(\n",
    "    model=model,\n",
    "    loss_fn=binary_crossentropy,\n",
    "    accuracy_fn=accuracy,\n",
    "    optimizer=Adam(),\n",
    "    x_test=X_test,\n",
    "    y_test=y_test,\n",
    "    batch_size=batch_size,\n",
    ")\n",
    "\n",
    "epochs = 5\n",
    "for epoch in 1:epochs\n",
    "    epoch_total_loss = 0.0f0\n",
    "    epoch_total_acc = 0.0f0\n",
    "    num_processed_batches = 0\n",
    "\n",
    "    epoch_batches = get_epoch_batches(X_train, y_train, batch_size=batch_size, do_shuffle=true)\n",
    "\n",
    "    t = @elapsed begin\n",
    "        for (x_batch, y_batch) in epoch_batches\n",
    "            batch_loss, batch_acc = train_on_batch(x_batch, y_batch)\n",
    "\n",
    "            epoch_total_loss += batch_loss\n",
    "            epoch_total_acc += batch_acc\n",
    "            num_processed_batches += 1\n",
    "        end\n",
    "\n",
    "        train_loss = epoch_total_loss / num_processed_batches\n",
    "        train_acc = epoch_total_acc / num_processed_batches\n",
    "\n",
    "        test_loss, test_acc = test_loss_and_accuracy()\n",
    "    end\n",
    "\n",
    "    println(@sprintf(\"Epoch: %d (%.2fs) \\tTrain: (l: %.2f, a: %.2f) \\tTest: (l: %.2f, a: %.2f)\",\n",
    "        epoch, t, train_loss, train_acc, test_loss, test_acc))\n",
    "end"
   ]
  }
 ],
 "metadata": {
  "kernelspec": {
   "display_name": "Julia 1.11.5",
   "language": "julia",
   "name": "julia-1.11"
  },
  "language_info": {
   "file_extension": ".jl",
   "mimetype": "application/julia",
   "name": "julia",
   "version": "1.11.5"
  }
 },
 "nbformat": 4,
 "nbformat_minor": 5
}
