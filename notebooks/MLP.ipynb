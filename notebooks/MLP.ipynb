{
 "cells": [
  {
   "cell_type": "code",
   "execution_count": 1,
   "id": "ea284f9a",
   "metadata": {},
   "outputs": [
    {
     "name": "stderr",
     "output_type": "stream",
     "text": [
      "\u001b[32m\u001b[1m  Activating\u001b[22m\u001b[39m project at `~/AwID/MLP`\n"
     ]
    }
   ],
   "source": [
    "using Pkg\n",
    "Pkg.activate(\"..\")\n",
    "Pkg.instantiate()"
   ]
  },
  {
   "cell_type": "code",
   "execution_count": 2,
   "id": "70960630",
   "metadata": {},
   "outputs": [],
   "source": [
    "using JLD2\n",
    "X_train = load(\"../data/imdb_dataset_prepared.jld2\", \"X_train\")\n",
    "y_train = load(\"../data/imdb_dataset_prepared.jld2\", \"y_train\")\n",
    "X_test = load(\"../data/imdb_dataset_prepared.jld2\", \"X_test\")\n",
    "y_test = load(\"../data/imdb_dataset_prepared.jld2\", \"y_test\")\n",
    "nothing"
   ]
  },
  {
   "cell_type": "code",
   "execution_count": null,
   "id": "ca397e27",
   "metadata": {},
   "outputs": [
    {
     "name": "stdout",
     "output_type": "stream",
     "text": [
      "Epoch: 1 (21.23s) \tTrain: (l: 0.65, a: 0.80) \tTest: (l: 0.58, a: 0.85)\n",
      "Epoch: 2 (7.34s) \tTrain: (l: 0.46, a: 0.92) \tTest: (l: 0.44, a: 0.87)\n",
      "Epoch: 3 (8.28s) \tTrain: (l: 0.30, a: 0.94) \tTest: (l: 0.36, a: 0.87)\n",
      "Epoch: 4 (8.54s) \tTrain: (l: 0.20, a: 0.96) \tTest: (l: 0.33, a: 0.87)\n",
      "Epoch: 5 (6.87s) \tTrain: (l: 0.15, a: 0.98) \tTest: (l: 0.32, a: 0.87)\n"
     ]
    }
   ],
   "source": [
    "using MLP.NeuralNetwork, MLP.AutoDiff, Printf\n",
    "\n",
    "model = Chain(\n",
    "    Dense(size(X_train, 1), 32, relu),\n",
    "    Dense(32, 1, sigmoid)\n",
    ")\n",
    "opt = Adam()\n",
    "\n",
    "batch_size = 64\n",
    "\n",
    "placeholder_x_data = similar(X_train, size(X_train, 1), batch_size)\n",
    "placeholder_y_data = similar(y_train, 1, batch_size)\n",
    "\n",
    "x_input_node = Variable(placeholder_x_data)\n",
    "y_true_node = Constant(placeholder_y_data)\n",
    "loss_node_static, y_pred_node_static = binary_crossentropy(model, x_input_node, y_true_node, batch_size=batch_size)\n",
    "computation_order_static = topological_sort(loss_node_static)\n",
    "\n",
    "x_test_node_static = Variable(X_test)\n",
    "y_test_node_static = Constant(y_test)\n",
    "test_loss_node_static, test_y_pred_node_static = binary_crossentropy(model, x_test_node_static, y_test_node_static, batch_size=size(y_test, 2))\n",
    "test_order_static = topological_sort(test_loss_node_static)\n",
    "\n",
    "epochs = 5\n",
    "for epoch in 1:epochs\n",
    "    epoch_total_loss = 0.0f0\n",
    "    epoch_total_acc = 0.0f0\n",
    "    num_processed_batches = 0\n",
    "\n",
    "    epoch_batches = get_epoch_batches(X_train, y_train, batch_size=batch_size, do_shuffle=true)\n",
    "\n",
    "    t_elapsed = @elapsed begin\n",
    "        for (x_batch, y_batch) in epoch_batches\n",
    "            x_input_node.output = x_batch\n",
    "            y_true_node.output = y_batch\n",
    "\n",
    "            current_loss_value = forward!(computation_order_static)\n",
    "            batch_acc_value = accuracy(y_pred_node_static.output, y_batch)\n",
    "\n",
    "            epoch_total_loss += current_loss_value\n",
    "            epoch_total_acc += batch_acc_value\n",
    "            num_processed_batches += 1\n",
    "\n",
    "            backward!(computation_order_static)\n",
    "            update!(opt, parameters(model))\n",
    "        end\n",
    "\n",
    "        train_loss = epoch_total_loss / num_processed_batches\n",
    "        train_acc = epoch_total_acc / num_processed_batches\n",
    "\n",
    "        test_loss_value = forward!(test_order_static)\n",
    "        test_acc_value = accuracy(test_y_pred_node_static.output, y_test)\n",
    "    end\n",
    "\n",
    "    println(@sprintf(\"Epoch: %d (%.2fs) \\tTrain: (l: %.2f, a: %.2f) \\tTest: (l: %.2f, a: %.2f)\",\n",
    "        epoch, t_elapsed, train_loss, train_acc, test_loss_value, test_acc_value))\n",
    "end"
   ]
  }
 ],
 "metadata": {
  "kernelspec": {
   "display_name": "Julia 1.11.5",
   "language": "julia",
   "name": "julia-1.11"
  },
  "language_info": {
   "file_extension": ".jl",
   "mimetype": "application/julia",
   "name": "julia",
   "version": "1.11.5"
  }
 },
 "nbformat": 4,
 "nbformat_minor": 5
}
